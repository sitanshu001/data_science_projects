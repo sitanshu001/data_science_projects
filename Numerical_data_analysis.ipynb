{
 "cells": [
  {
   "cell_type": "code",
   "execution_count": null,
   "id": "9a267d7b-e1dc-404c-a3cf-13312f31c86d",
   "metadata": {},
   "outputs": [],
   "source": [
    "import pandas as pd\n",
    "import numpy as np\n",
    "import matplotlib.pyplot as plt\n",
    "import seaborn as sns\n",
    "import os\n",
    "visa_df=pd.read_csv(r\"data_files\\Visadataset.csv\")\n",
    "cat=visa_df.select_dtypes(include='object').columns\n",
    "num=visa_df.select_dtypes(exclude='object').columns"
   ]
  },
  {
   "cell_type": "markdown",
   "id": "ec477bc3-b136-4395-8ef4-f22d63f74d19",
   "metadata": {},
   "source": [
    "**prevalling_wage**"
   ]
  },
  {
   "cell_type": "markdown",
   "id": "a55c136b-b023-482a-8aeb-62f2939c8ffc",
   "metadata": {},
   "source": [
    "- count\n",
    "- min\n",
    "- max\n",
    "- mean\n",
    "- median\n",
    "- 25%\n",
    "- 75%"
   ]
  },
  {
   "cell_type": "markdown",
   "id": "d14eba0c-3df4-47c2-8c7e-6c30a5df2f22",
   "metadata": {},
   "source": [
    "count or len"
   ]
  },
  {
   "cell_type": "code",
   "execution_count": 10,
   "id": "c7732e5c-ef4b-4780-a513-31cdefe7689f",
   "metadata": {},
   "outputs": [
    {
     "data": {
      "text/plain": [
       "0           592.2029\n",
       "1         83425.6500\n",
       "2        122996.8600\n",
       "3         83434.0300\n",
       "4        149907.3900\n",
       "            ...     \n",
       "25475     77092.5700\n",
       "25476    279174.7900\n",
       "25477    146298.8500\n",
       "25478     86154.7700\n",
       "25479     70876.9100\n",
       "Name: prevailing_wage, Length: 25480, dtype: float64"
      ]
     },
     "execution_count": 10,
     "metadata": {},
     "output_type": "execute_result"
    }
   ],
   "source": [
    "visa_df['prevailing_wage']"
   ]
  },
  {
   "cell_type": "code",
   "execution_count": 12,
   "id": "f88e4fca-45be-4b54-b41b-e54291726d8c",
   "metadata": {},
   "outputs": [
    {
     "data": {
      "text/plain": [
       "25480"
      ]
     },
     "execution_count": 12,
     "metadata": {},
     "output_type": "execute_result"
    }
   ],
   "source": [
    "len(visa_df['prevailing_wage'])"
   ]
  },
  {
   "cell_type": "markdown",
   "id": "b43e08d1-b0e1-4448-adf8-39b70791f1f5",
   "metadata": {},
   "source": [
    "**mean**"
   ]
  },
  {
   "cell_type": "code",
   "execution_count": 15,
   "id": "864429cc-c6a8-4272-85e1-c3ea59f1b1b3",
   "metadata": {},
   "outputs": [
    {
     "data": {
      "text/plain": [
       "74455.81459209183"
      ]
     },
     "execution_count": 15,
     "metadata": {},
     "output_type": "execute_result"
    }
   ],
   "source": [
    "visa_df['prevailing_wage'].mean()"
   ]
  },
  {
   "cell_type": "code",
   "execution_count": 17,
   "id": "6468df9c-7cce-4011-975e-7c0aeeb02210",
   "metadata": {},
   "outputs": [
    {
     "data": {
      "text/plain": [
       "74455.81"
      ]
     },
     "execution_count": 17,
     "metadata": {},
     "output_type": "execute_result"
    }
   ],
   "source": [
    "round(visa_df['prevailing_wage'].mean(),2)"
   ]
  },
  {
   "cell_type": "code",
   "execution_count": 21,
   "id": "7b769099-4714-4560-a982-deefcf21e98d",
   "metadata": {},
   "outputs": [
    {
     "data": {
      "text/plain": [
       "70308.21"
      ]
     },
     "execution_count": 21,
     "metadata": {},
     "output_type": "execute_result"
    }
   ],
   "source": [
    "round(visa_df['prevailing_wage'].median(),2)"
   ]
  },
  {
   "cell_type": "markdown",
   "id": "232503bb-1082-4218-915b-ed4cffe93a89",
   "metadata": {},
   "source": [
    "**mean-median using numpy**"
   ]
  },
  {
   "cell_type": "code",
   "execution_count": 24,
   "id": "90a355a8-fe72-4296-a9bb-aeb938ae0a2f",
   "metadata": {},
   "outputs": [
    {
     "data": {
      "text/plain": [
       "74455.81459209183"
      ]
     },
     "execution_count": 24,
     "metadata": {},
     "output_type": "execute_result"
    }
   ],
   "source": [
    "np.mean(visa_df['prevailing_wage'])"
   ]
  },
  {
   "cell_type": "code",
   "execution_count": 3,
   "id": "3215e7b4-f130-4f01-96c5-8004126a6e48",
   "metadata": {},
   "outputs": [
    {
     "data": {
      "text/plain": [
       "74455.81"
      ]
     },
     "execution_count": 3,
     "metadata": {},
     "output_type": "execute_result"
    }
   ],
   "source": [
    "wage_data=visa_df['prevailing_wage']\n",
    "round(np.mean(wage_data),2)"
   ]
  },
  {
   "cell_type": "code",
   "execution_count": 26,
   "id": "b4e2f995-b555-46fc-965e-8f0e7c42a3f7",
   "metadata": {},
   "outputs": [
    {
     "data": {
      "text/plain": [
       "74455.81"
      ]
     },
     "execution_count": 26,
     "metadata": {},
     "output_type": "execute_result"
    }
   ],
   "source": [
    "wage_data=visa_df['prevailing_wage']\n",
    "round(np.mean(visa_df['prevailing_wage']),2)"
   ]
  },
  {
   "cell_type": "code",
   "execution_count": 28,
   "id": "9d65596e-1cf9-4d55-a008-c646e2d1ede0",
   "metadata": {},
   "outputs": [
    {
     "data": {
      "text/plain": [
       "70308.20999999999"
      ]
     },
     "execution_count": 28,
     "metadata": {},
     "output_type": "execute_result"
    }
   ],
   "source": [
    "np.median(visa_df['prevailing_wage'])"
   ]
  },
  {
   "cell_type": "code",
   "execution_count": 30,
   "id": "9a3d9d91-4b85-4fb0-80e7-b37c2a5d552a",
   "metadata": {},
   "outputs": [
    {
     "data": {
      "text/plain": [
       "0        100.66\n",
       "1        102.70\n",
       "2        105.96\n",
       "3        108.12\n",
       "4        109.06\n",
       "5        110.51\n",
       "6        111.11\n",
       "7        113.60\n",
       "8        118.43\n",
       "9        122.65\n",
       "10       127.89\n",
       "11       134.15\n",
       "12       138.76\n",
       "13      6036.67\n",
       "14     21894.51\n",
       "15     24258.73\n",
       "16     58770.05\n",
       "17     60948.15\n",
       "18     64357.58\n",
       "19     74645.92\n",
       "20     82560.28\n",
       "21     87751.88\n",
       "22     88664.77\n",
       "23     93356.03\n",
       "24    126813.75\n",
       "25    149907.39\n",
       "Name: prevailing_wage, dtype: float64"
      ]
     },
     "execution_count": 30,
     "metadata": {},
     "output_type": "execute_result"
    }
   ],
   "source": [
    "visa_df['prevailing_wage'].mode()"
   ]
  },
  {
   "cell_type": "code",
   "execution_count": 42,
   "id": "501a4d36-2359-4ca4-adb5-bf8964c54b4b",
   "metadata": {},
   "outputs": [
    {
     "data": {
      "text/plain": [
       "(0        0.2029\n",
       " 1        0.6500\n",
       " 2        0.8600\n",
       " 3        0.0300\n",
       " 4        0.3900\n",
       "           ...  \n",
       " 25475    0.5700\n",
       " 25476    0.7900\n",
       " 25477    0.8500\n",
       " 25478    0.7700\n",
       " 25479    0.9100\n",
       " Name: prevailing_wage, Length: 25480, dtype: float64,\n",
       " 0           592.0\n",
       " 1         83425.0\n",
       " 2        122996.0\n",
       " 3         83434.0\n",
       " 4        149907.0\n",
       "            ...   \n",
       " 25475     77092.0\n",
       " 25476    279174.0\n",
       " 25477    146298.0\n",
       " 25478     86154.0\n",
       " 25479     70876.0\n",
       " Name: prevailing_wage, Length: 25480, dtype: float64)"
      ]
     },
     "execution_count": 42,
     "metadata": {},
     "output_type": "execute_result"
    }
   ],
   "source": [
    "np.modf(visa_df['prevailing_wage'])"
   ]
  },
  {
   "cell_type": "code",
   "execution_count": 54,
   "id": "3dcd3980-5ee0-4778-b54a-7129824833f7",
   "metadata": {},
   "outputs": [
    {
     "data": {
      "text/plain": [
       "(25480, 2.14, 319210.27, 74455.81, 70308.21, 52815.94)"
      ]
     },
     "execution_count": 54,
     "metadata": {},
     "output_type": "execute_result"
    }
   ],
   "source": [
    "wage_data=visa_df['prevailing_wage']\n",
    "wage_count=len(wage_data)\n",
    "wage_min=round(wage_data.min(),2)\n",
    "wage_max=round(wage_data.max(),2)\n",
    "wage_mean=round(wage_data.mean(),2)\n",
    "wage_median=round(wage_data.median(),2)\n",
    "wage_std=round(wage_data.std(),2) #standard deviation\n",
    "# round(np.mean(wage_data),2)\n",
    "wage_count,wage_min,wage_max,wage_mean,wage_median,wage_std"
   ]
  },
  {
   "cell_type": "code",
   "execution_count": 66,
   "id": "216bbc69-9485-424a-8cc1-c66ffa3cf561",
   "metadata": {},
   "outputs": [
    {
     "data": {
      "text/html": [
       "<div>\n",
       "<style scoped>\n",
       "    .dataframe tbody tr th:only-of-type {\n",
       "        vertical-align: middle;\n",
       "    }\n",
       "\n",
       "    .dataframe tbody tr th {\n",
       "        vertical-align: top;\n",
       "    }\n",
       "\n",
       "    .dataframe thead th {\n",
       "        text-align: right;\n",
       "    }\n",
       "</style>\n",
       "<table border=\"1\" class=\"dataframe\">\n",
       "  <thead>\n",
       "    <tr style=\"text-align: right;\">\n",
       "      <th></th>\n",
       "      <th>0</th>\n",
       "      <th>1</th>\n",
       "    </tr>\n",
       "  </thead>\n",
       "  <tbody>\n",
       "    <tr>\n",
       "      <th>0</th>\n",
       "      <td>wage_count</td>\n",
       "      <td>25480.00</td>\n",
       "    </tr>\n",
       "    <tr>\n",
       "      <th>1</th>\n",
       "      <td>wage_min</td>\n",
       "      <td>2.14</td>\n",
       "    </tr>\n",
       "    <tr>\n",
       "      <th>2</th>\n",
       "      <td>wage_max</td>\n",
       "      <td>319210.27</td>\n",
       "    </tr>\n",
       "    <tr>\n",
       "      <th>3</th>\n",
       "      <td>wage_mean</td>\n",
       "      <td>74455.81</td>\n",
       "    </tr>\n",
       "    <tr>\n",
       "      <th>4</th>\n",
       "      <td>wage_median</td>\n",
       "      <td>70308.21</td>\n",
       "    </tr>\n",
       "    <tr>\n",
       "      <th>5</th>\n",
       "      <td>wage_std</td>\n",
       "      <td>52815.94</td>\n",
       "    </tr>\n",
       "  </tbody>\n",
       "</table>\n",
       "</div>"
      ],
      "text/plain": [
       "             0          1\n",
       "0   wage_count   25480.00\n",
       "1     wage_min       2.14\n",
       "2     wage_max  319210.27\n",
       "3    wage_mean   74455.81\n",
       "4  wage_median   70308.21\n",
       "5     wage_std   52815.94"
      ]
     },
     "execution_count": 66,
     "metadata": {},
     "output_type": "execute_result"
    }
   ],
   "source": [
    "wage_data=visa_df['prevailing_wage']\n",
    "wage_count=len(wage_data)\n",
    "wage_min=round(wage_data.min(),2)\n",
    "wage_max=round(wage_data.max(),2)\n",
    "wage_mean=round(wage_data.mean(),2)\n",
    "wage_median=round(wage_data.median(),2)\n",
    "wage_std=round(wage_data.std(),2)\n",
    "lst=[wage_count,wage_min,wage_max,wage_mean,wage_median,wage_std]\n",
    "id=['wage_count','wage_min','wage_max','wage_mean','wage_median','wage_std']\n",
    "wage_df=pd.DataFrame(zip(id,lst))\n",
    "wage_df"
   ]
  },
  {
   "cell_type": "markdown",
   "id": "7efdd465-68d3-45f8-8473-6e9998541e57",
   "metadata": {},
   "source": [
    "**percentile and quantile**"
   ]
  },
  {
   "cell_type": "markdown",
   "id": "d52508ca-de6d-47b1-ae41-d299ef217c44",
   "metadata": {},
   "source": [
    "- we want to find 25% - 50% - 75% or any using **percentile-quantile**\n",
    "- these methods available in numpy\n",
    "- percentile\n",
    "- np.percentile()"
   ]
  },
  {
   "cell_type": "code",
   "execution_count": 72,
   "id": "095e1606-42a4-42d8-a51a-49323f6759f3",
   "metadata": {},
   "outputs": [
    {
     "data": {
      "text/plain": [
       "34015.479999999996"
      ]
     },
     "execution_count": 72,
     "metadata": {},
     "output_type": "execute_result"
    }
   ],
   "source": [
    "np.percentile(wage_data,25)"
   ]
  },
  {
   "cell_type": "code",
   "execution_count": 86,
   "id": "538bf58f-f185-48cc-851f-ddfbe6854a70",
   "metadata": {},
   "outputs": [
    {
     "data": {
      "text/plain": [
       "34015.479999999996"
      ]
     },
     "execution_count": 86,
     "metadata": {},
     "output_type": "execute_result"
    }
   ],
   "source": [
    "np.quantile(wage_data,0.25)"
   ]
  },
  {
   "cell_type": "markdown",
   "id": "b99a9bd5-86fd-4602-80a0-b3501e980fd7",
   "metadata": {},
   "source": [
    "- 6,370 employees have salaries less than 34015.47 that is 25% of data\n",
    "- "
   ]
  },
  {
   "cell_type": "code",
   "execution_count": 125,
   "id": "c23af34f-014a-4e33-a1d9-b1823d15e61e",
   "metadata": {},
   "outputs": [
    {
     "data": {
      "text/plain": [
       "0         True\n",
       "1        False\n",
       "2        False\n",
       "3        False\n",
       "4        False\n",
       "         ...  \n",
       "25475    False\n",
       "25476    False\n",
       "25477    False\n",
       "25478    False\n",
       "25479    False\n",
       "Name: prevailing_wage, Length: 25480, dtype: bool"
      ]
     },
     "execution_count": 125,
     "metadata": {},
     "output_type": "execute_result"
    }
   ],
   "source": [
    "wage_data=visa_df['prevailing_wage']\n",
    "wage_25p=np.percentile(wage_data,25)\n",
    "con=wage_data<wage_25p\n",
    "con"
   ]
  },
  {
   "cell_type": "code",
   "execution_count": 129,
   "id": "ad715b5a-e41e-46db-9250-b158a3f6eddc",
   "metadata": {},
   "outputs": [
    {
     "data": {
      "text/plain": [
       "6370"
      ]
     },
     "execution_count": 129,
     "metadata": {},
     "output_type": "execute_result"
    }
   ],
   "source": [
    "p25=len(wage_data[con])\n",
    "p25"
   ]
  },
  {
   "cell_type": "code",
   "execution_count": 105,
   "id": "6a377862-d876-4562-9725-8ff4b7309760",
   "metadata": {},
   "outputs": [
    {
     "data": {
      "text/plain": [
       "(6370.0, 12740.0, 19110.0)"
      ]
     },
     "execution_count": 105,
     "metadata": {},
     "output_type": "execute_result"
    }
   ],
   "source": [
    "25*25480/100,50*25480/100,75*25480/100"
   ]
  },
  {
   "cell_type": "code",
   "execution_count": 135,
   "id": "045e9c87-ec69-4b9d-b3e8-9b43db1532a9",
   "metadata": {},
   "outputs": [],
   "source": [
    "wage_data=visa_df['prevailing_wage']\n",
    "wage_50p=np.percentile(wage_data,50)\n",
    "con=wage_data<wage_50p\n",
    "p50=len(wage_data[con])"
   ]
  },
  {
   "cell_type": "code",
   "execution_count": 137,
   "id": "e20a417f-a446-4f72-a479-1dc42d9138e9",
   "metadata": {},
   "outputs": [],
   "source": [
    "wage_data=visa_df['prevailing_wage']\n",
    "wage_75p=np.percentile(wage_data,75)\n",
    "con=wage_data<wage_75p\n",
    "p75=len(wage_data[con])"
   ]
  },
  {
   "cell_type": "code",
   "execution_count": 157,
   "id": "123a95e3-4116-4b26-9301-5f12a39f85d5",
   "metadata": {},
   "outputs": [
    {
     "data": {
      "text/html": [
       "<div>\n",
       "<style scoped>\n",
       "    .dataframe tbody tr th:only-of-type {\n",
       "        vertical-align: middle;\n",
       "    }\n",
       "\n",
       "    .dataframe tbody tr th {\n",
       "        vertical-align: top;\n",
       "    }\n",
       "\n",
       "    .dataframe thead th {\n",
       "        text-align: right;\n",
       "    }\n",
       "</style>\n",
       "<table border=\"1\" class=\"dataframe\">\n",
       "  <thead>\n",
       "    <tr style=\"text-align: right;\">\n",
       "      <th></th>\n",
       "      <th>prevailing_wage</th>\n",
       "    </tr>\n",
       "  </thead>\n",
       "  <tbody>\n",
       "    <tr>\n",
       "      <th>wage_count</th>\n",
       "      <td>25480.0000</td>\n",
       "    </tr>\n",
       "    <tr>\n",
       "      <th>wage_min</th>\n",
       "      <td>2.1400</td>\n",
       "    </tr>\n",
       "    <tr>\n",
       "      <th>wage_max</th>\n",
       "      <td>319210.2700</td>\n",
       "    </tr>\n",
       "    <tr>\n",
       "      <th>wage_mean</th>\n",
       "      <td>74455.8100</td>\n",
       "    </tr>\n",
       "    <tr>\n",
       "      <th>wage_median</th>\n",
       "      <td>70308.2100</td>\n",
       "    </tr>\n",
       "    <tr>\n",
       "      <th>wage_std</th>\n",
       "      <td>52815.9400</td>\n",
       "    </tr>\n",
       "    <tr>\n",
       "      <th>25p</th>\n",
       "      <td>34015.4800</td>\n",
       "    </tr>\n",
       "    <tr>\n",
       "      <th>50p</th>\n",
       "      <td>70308.2100</td>\n",
       "    </tr>\n",
       "    <tr>\n",
       "      <th>75p</th>\n",
       "      <td>107735.5125</td>\n",
       "    </tr>\n",
       "  </tbody>\n",
       "</table>\n",
       "</div>"
      ],
      "text/plain": [
       "             prevailing_wage\n",
       "wage_count        25480.0000\n",
       "wage_min              2.1400\n",
       "wage_max         319210.2700\n",
       "wage_mean         74455.8100\n",
       "wage_median       70308.2100\n",
       "wage_std          52815.9400\n",
       "25p               34015.4800\n",
       "50p               70308.2100\n",
       "75p              107735.5125"
      ]
     },
     "execution_count": 157,
     "metadata": {},
     "output_type": "execute_result"
    }
   ],
   "source": [
    "wage_data=visa_df['prevailing_wage']\n",
    "wage_count=len(wage_data)\n",
    "wage_min=round(wage_data.min(),2)\n",
    "wage_max=round(wage_data.max(),2)\n",
    "wage_mean=round(wage_data.mean(),2)\n",
    "wage_median=round(wage_data.median(),2)\n",
    "wage_std=round(wage_data.std(),2)\n",
    "p25=np.percentile(col_data,25)\n",
    "p50=np.percentile(col_data,50)\n",
    "p75=np.percentile(col_data,75)\n",
    "lst=[wage_count,wage_min,wage_max,wage_mean,wage_median,wage_std,p25,p50,p75]\n",
    "id=['wage_count','wage_min','wage_max','wage_mean','wage_median','wage_std','25p','50p','75p']\n",
    "wage_df=pd.DataFrame(lst,index=id,columns=['prevailing_wage'])\n",
    "wage_df"
   ]
  },
  {
   "cell_type": "code",
   "execution_count": 159,
   "id": "42a490a2-565e-4d48-b490-118a846a04ef",
   "metadata": {},
   "outputs": [
    {
     "data": {
      "text/html": [
       "<div>\n",
       "<style scoped>\n",
       "    .dataframe tbody tr th:only-of-type {\n",
       "        vertical-align: middle;\n",
       "    }\n",
       "\n",
       "    .dataframe tbody tr th {\n",
       "        vertical-align: top;\n",
       "    }\n",
       "\n",
       "    .dataframe thead th {\n",
       "        text-align: right;\n",
       "    }\n",
       "</style>\n",
       "<table border=\"1\" class=\"dataframe\">\n",
       "  <thead>\n",
       "    <tr style=\"text-align: right;\">\n",
       "      <th></th>\n",
       "      <th>no_of_employees</th>\n",
       "      <th>yr_of_estab</th>\n",
       "      <th>prevailing_wage</th>\n",
       "    </tr>\n",
       "  </thead>\n",
       "  <tbody>\n",
       "    <tr>\n",
       "      <th>wage_count</th>\n",
       "      <td>25480.00</td>\n",
       "      <td>25480.00</td>\n",
       "      <td>25480.0000</td>\n",
       "    </tr>\n",
       "    <tr>\n",
       "      <th>wage_min</th>\n",
       "      <td>-26.00</td>\n",
       "      <td>1800.00</td>\n",
       "      <td>2.1400</td>\n",
       "    </tr>\n",
       "    <tr>\n",
       "      <th>wage_max</th>\n",
       "      <td>602069.00</td>\n",
       "      <td>2016.00</td>\n",
       "      <td>319210.2700</td>\n",
       "    </tr>\n",
       "    <tr>\n",
       "      <th>wage_mean</th>\n",
       "      <td>5667.04</td>\n",
       "      <td>1979.41</td>\n",
       "      <td>74455.8100</td>\n",
       "    </tr>\n",
       "    <tr>\n",
       "      <th>wage_median</th>\n",
       "      <td>2109.00</td>\n",
       "      <td>1997.00</td>\n",
       "      <td>70308.2100</td>\n",
       "    </tr>\n",
       "    <tr>\n",
       "      <th>wage_std</th>\n",
       "      <td>22877.93</td>\n",
       "      <td>42.37</td>\n",
       "      <td>52815.9400</td>\n",
       "    </tr>\n",
       "    <tr>\n",
       "      <th>25p</th>\n",
       "      <td>1022.00</td>\n",
       "      <td>1976.00</td>\n",
       "      <td>34015.4800</td>\n",
       "    </tr>\n",
       "    <tr>\n",
       "      <th>50p</th>\n",
       "      <td>2109.00</td>\n",
       "      <td>1997.00</td>\n",
       "      <td>70308.2100</td>\n",
       "    </tr>\n",
       "    <tr>\n",
       "      <th>75p</th>\n",
       "      <td>3504.00</td>\n",
       "      <td>2005.00</td>\n",
       "      <td>107735.5125</td>\n",
       "    </tr>\n",
       "  </tbody>\n",
       "</table>\n",
       "</div>"
      ],
      "text/plain": [
       "             no_of_employees  yr_of_estab  prevailing_wage\n",
       "wage_count          25480.00     25480.00       25480.0000\n",
       "wage_min              -26.00      1800.00           2.1400\n",
       "wage_max           602069.00      2016.00      319210.2700\n",
       "wage_mean            5667.04      1979.41       74455.8100\n",
       "wage_median          2109.00      1997.00       70308.2100\n",
       "wage_std            22877.93        42.37       52815.9400\n",
       "25p                  1022.00      1976.00       34015.4800\n",
       "50p                  2109.00      1997.00       70308.2100\n",
       "75p                  3504.00      2005.00      107735.5125"
      ]
     },
     "execution_count": 159,
     "metadata": {},
     "output_type": "execute_result"
    }
   ],
   "source": [
    "data=[]\n",
    "for i in num:\n",
    "    col_data=visa_df[i]\n",
    "    col_count=len(col_data)\n",
    "    col_min=round(col_data.min(),2)\n",
    "    col_max=round(col_data.max(),2)\n",
    "    col_mean=round(col_data.mean(),2)\n",
    "    col_median=round(col_data.median(),2)\n",
    "    col_std=round(col_data.std(),2)\n",
    "    p25=np.percentile(col_data,25)\n",
    "    p50=np.percentile(col_data,50)\n",
    "    p75=np.percentile(col_data,75)\n",
    "    data.append([col_count,col_min,col_max,col_mean,col_median,col_std,p25,p50,p75])\n",
    "    id=['wage_count','wage_min','wage_max','wage_mean','wage_median','wage_std','25p','50p','75p']\n",
    "    wage_df=pd.DataFrame(lst,index=id,columns=['prevailing_wage'])\n",
    "pd.DataFrame(data,index=num,columns=id).T"
   ]
  },
  {
   "cell_type": "code",
   "execution_count": 155,
   "id": "8bcd46cf-0e13-48a9-97c8-e7e127693c6e",
   "metadata": {},
   "outputs": [
    {
     "data": {
      "text/html": [
       "<div>\n",
       "<style scoped>\n",
       "    .dataframe tbody tr th:only-of-type {\n",
       "        vertical-align: middle;\n",
       "    }\n",
       "\n",
       "    .dataframe tbody tr th {\n",
       "        vertical-align: top;\n",
       "    }\n",
       "\n",
       "    .dataframe thead th {\n",
       "        text-align: right;\n",
       "    }\n",
       "</style>\n",
       "<table border=\"1\" class=\"dataframe\">\n",
       "  <thead>\n",
       "    <tr style=\"text-align: right;\">\n",
       "      <th></th>\n",
       "      <th>no_of_employees</th>\n",
       "      <th>yr_of_estab</th>\n",
       "      <th>prevailing_wage</th>\n",
       "    </tr>\n",
       "  </thead>\n",
       "  <tbody>\n",
       "    <tr>\n",
       "      <th>count</th>\n",
       "      <td>25480.000000</td>\n",
       "      <td>25480.000000</td>\n",
       "      <td>25480.000000</td>\n",
       "    </tr>\n",
       "    <tr>\n",
       "      <th>mean</th>\n",
       "      <td>5667.043210</td>\n",
       "      <td>1979.409929</td>\n",
       "      <td>74455.814592</td>\n",
       "    </tr>\n",
       "    <tr>\n",
       "      <th>std</th>\n",
       "      <td>22877.928848</td>\n",
       "      <td>42.366929</td>\n",
       "      <td>52815.942327</td>\n",
       "    </tr>\n",
       "    <tr>\n",
       "      <th>min</th>\n",
       "      <td>-26.000000</td>\n",
       "      <td>1800.000000</td>\n",
       "      <td>2.136700</td>\n",
       "    </tr>\n",
       "    <tr>\n",
       "      <th>25%</th>\n",
       "      <td>1022.000000</td>\n",
       "      <td>1976.000000</td>\n",
       "      <td>34015.480000</td>\n",
       "    </tr>\n",
       "    <tr>\n",
       "      <th>50%</th>\n",
       "      <td>2109.000000</td>\n",
       "      <td>1997.000000</td>\n",
       "      <td>70308.210000</td>\n",
       "    </tr>\n",
       "    <tr>\n",
       "      <th>75%</th>\n",
       "      <td>3504.000000</td>\n",
       "      <td>2005.000000</td>\n",
       "      <td>107735.512500</td>\n",
       "    </tr>\n",
       "    <tr>\n",
       "      <th>max</th>\n",
       "      <td>602069.000000</td>\n",
       "      <td>2016.000000</td>\n",
       "      <td>319210.270000</td>\n",
       "    </tr>\n",
       "  </tbody>\n",
       "</table>\n",
       "</div>"
      ],
      "text/plain": [
       "       no_of_employees   yr_of_estab  prevailing_wage\n",
       "count     25480.000000  25480.000000     25480.000000\n",
       "mean       5667.043210   1979.409929     74455.814592\n",
       "std       22877.928848     42.366929     52815.942327\n",
       "min         -26.000000   1800.000000         2.136700\n",
       "25%        1022.000000   1976.000000     34015.480000\n",
       "50%        2109.000000   1997.000000     70308.210000\n",
       "75%        3504.000000   2005.000000    107735.512500\n",
       "max      602069.000000   2016.000000    319210.270000"
      ]
     },
     "execution_count": 155,
     "metadata": {},
     "output_type": "execute_result"
    }
   ],
   "source": [
    "visa_df.describe()"
   ]
  },
  {
   "cell_type": "code",
   "execution_count": 10,
   "id": "ab018b1d-f521-44f1-89c4-3b2d972adf33",
   "metadata": {},
   "outputs": [
    {
     "data": {
      "text/plain": [
       "0           592.2029\n",
       "1         83425.6500\n",
       "2        122996.8600\n",
       "3         83434.0300\n",
       "4        149907.3900\n",
       "            ...     \n",
       "25475     77092.5700\n",
       "25476    279174.7900\n",
       "25477    146298.8500\n",
       "25478     86154.7700\n",
       "25479     70876.9100\n",
       "Name: prevailing_wage, Length: 25480, dtype: float64"
      ]
     },
     "execution_count": 10,
     "metadata": {},
     "output_type": "execute_result"
    }
   ],
   "source": [
    "wage_data=visa_df['prevailing_wage']\n",
    "p25=np.percentile(wage_data,25)\n",
    "wage_data"
   ]
  },
  {
   "cell_type": "code",
   "execution_count": 8,
   "id": "86fbd3ab-5ea6-47c2-b58c-15ccb66efd8e",
   "metadata": {},
   "outputs": [
    {
     "data": {
      "text/plain": [
       "6370.0"
      ]
     },
     "execution_count": 8,
     "metadata": {},
     "output_type": "execute_result"
    }
   ],
   "source": [
    "25480*25/100"
   ]
  },
  {
   "cell_type": "markdown",
   "id": "2ba62646-a07e-46aa-bad9-764a41315980",
   "metadata": {},
   "source": [
    "emperical rule"
   ]
  },
  {
   "cell_type": "markdown",
   "id": "7a50f1c2-cfe7-4851-bdf3-1dcf87004758",
   "metadata": {},
   "source": [
    "mu-1*sigma to mu+1*sigma 68% of data\n",
    "\n",
    "mu-2*sigma to mu+2*sigma 95% of data\n",
    "\n",
    "mu-3*sigma to mu+3*sigma 99.7% of data"
   ]
  },
  {
   "cell_type": "markdown",
   "id": "4d16e28e-107d-4732-8d46-de9a90f5df13",
   "metadata": {},
   "source": [
    "lower bound (lb) and upper bound (ub)"
   ]
  },
  {
   "cell_type": "code",
   "execution_count": 18,
   "id": "1320292c-ec6a-45d9-8f56-ae4fc0805515",
   "metadata": {},
   "outputs": [
    {
     "data": {
      "text/plain": [
       "(21639.872265218262, 127271.7569189654)"
      ]
     },
     "execution_count": 18,
     "metadata": {},
     "output_type": "execute_result"
    }
   ],
   "source": [
    "mean=visa_df['prevailing_wage'].mean()\n",
    "std=visa_df['prevailing_wage'].std()\n",
    "lb=mean-1*std\n",
    "mean=visa_df['prevailing_wage'].mean()\n",
    "std=visa_df['prevailing_wage'].std()\n",
    "ub=mean+1*std\n",
    "lb,ub"
   ]
  },
  {
   "cell_type": "code",
   "execution_count": 34,
   "id": "3d93428d-63d0-46a1-b825-2db3b6cf1029",
   "metadata": {},
   "outputs": [
    {
     "data": {
      "text/plain": [
       "(17171, 17326.4)"
      ]
     },
     "execution_count": 34,
     "metadata": {},
     "output_type": "execute_result"
    }
   ],
   "source": [
    "mean=visa_df['prevailing_wage'].mean()\n",
    "std=visa_df['prevailing_wage'].std()\n",
    "lb=mean-1*std\n",
    "\n",
    "mean=visa_df['prevailing_wage'].mean()\n",
    "std=visa_df['prevailing_wage'].std()\n",
    "ub=mean+1*std\n",
    "\n",
    "lb,ub\n",
    "con1=visa_df['prevailing_wage']>lb\n",
    "con2=visa_df['prevailing_wage']<ub\n",
    "\n",
    "con3=con1&con2\n",
    "len(visa_df[con3]),68*25480/100"
   ]
  },
  {
   "cell_type": "code",
   "execution_count": 36,
   "id": "57978596-bc7d-4477-8e47-b1d98177c0d9",
   "metadata": {},
   "outputs": [
    {
     "data": {
      "text/plain": [
       "(24582, 24206.0)"
      ]
     },
     "execution_count": 36,
     "metadata": {},
     "output_type": "execute_result"
    }
   ],
   "source": [
    "mean=visa_df['prevailing_wage'].mean()\n",
    "std=visa_df['prevailing_wage'].std()\n",
    "lb=mean-2*std\n",
    "\n",
    "mean=visa_df['prevailing_wage'].mean()\n",
    "std=visa_df['prevailing_wage'].std()\n",
    "ub=mean+2*std\n",
    "\n",
    "lb,ub\n",
    "con1=visa_df['prevailing_wage']>lb\n",
    "con2=visa_df['prevailing_wage']<ub\n",
    "\n",
    "con3=con1&con2\n",
    "len(visa_df[con3]),95*25480/100"
   ]
  },
  {
   "cell_type": "code",
   "execution_count": 40,
   "id": "9250a8e0-ee8e-4ab8-8977-c0f02aca7b8f",
   "metadata": {},
   "outputs": [
    {
     "data": {
      "text/plain": [
       "(25186, 25403.56)"
      ]
     },
     "execution_count": 40,
     "metadata": {},
     "output_type": "execute_result"
    }
   ],
   "source": [
    "mean=visa_df['prevailing_wage'].mean()\n",
    "std=visa_df['prevailing_wage'].std()\n",
    "lb=mean-3*std\n",
    "\n",
    "mean=visa_df['prevailing_wage'].mean()\n",
    "std=visa_df['prevailing_wage'].std()\n",
    "ub=mean+3*std\n",
    "\n",
    "lb,ub\n",
    "con1=visa_df['prevailing_wage']>lb\n",
    "con2=visa_df['prevailing_wage']<ub\n",
    "\n",
    "con3=con1&con2\n",
    "len(visa_df[con3]),99.7*25480/100"
   ]
  },
  {
   "cell_type": "markdown",
   "id": "c4efd44e-9311-4c8b-955f-8a6fb2c6bd8c",
   "metadata": {},
   "source": [
    "- from above data we understand the data doesnot follow normal distribution\n",
    "- we will get more clarity by plotting Histogram"
   ]
  },
  {
   "cell_type": "markdown",
   "id": "8ef8d233-93c5-4b1a-a687-08d36e780d16",
   "metadata": {},
   "source": [
    "**Histogram**\n",
    "\n",
    "- class frequency vs interval frequency\n",
    "- it is available in batplotlibpackage\n",
    "- plt.hist"
   ]
  },
  {
   "cell_type": "code",
   "execution_count": 13,
   "id": "5616c6fe-1e88-4184-b857-efac8b2bfd11",
   "metadata": {},
   "outputs": [
    {
     "data": {
      "text/plain": [
       "(array([6038., 5504., 5681., 4551., 2334.,  624.,  373.,  240.,  114.,\n",
       "          21.]),\n",
       " array([2.13670000e+00, 3.19229500e+04, 6.38437634e+04, 9.57645767e+04,\n",
       "        1.27685390e+05, 1.59606203e+05, 1.91527017e+05, 2.23447830e+05,\n",
       "        2.55368643e+05, 2.87289457e+05, 3.19210270e+05]),\n",
       " <BarContainer object of 10 artists>)"
      ]
     },
     "execution_count": 13,
     "metadata": {},
     "output_type": "execute_result"
    },
    {
     "data": {
      "image/png": "[encoded data removed]",
      "text/plain": [
       "<Figure size 640x480 with 1 Axes>"
      ]
     },
     "metadata": {},
     "output_type": "display_data"
    }
   ],
   "source": [
    "plt.hist(visa_df['prevailing_wage'])"
   ]
  },
  {
   "cell_type": "code",
   "execution_count": 15,
   "id": "926cf575-30b6-4844-b862-0a97b93f6004",
   "metadata": {},
   "outputs": [
    {
     "data": {
      "text/plain": [
       "(array([2992.,  871., 1005., 1170., 1242., 1434., 1385., 1443., 1444.,\n",
       "        1445., 1457., 1335., 1268., 1217., 1088.,  978.,  807.,  645.,\n",
       "         509.,  373.,  264.,  144.,  105.,  111.,  107.,   99.,   88.,\n",
       "          79.,   65.,   64.,   58.,   53.,   33.,   33.,   29.,   19.,\n",
       "           7.,    3.,    6.,    5.]),\n",
       " array([2.13670000e+00, 7.98234003e+03, 1.59625434e+04, 2.39427467e+04,\n",
       "        3.19229500e+04, 3.99031534e+04, 4.78833567e+04, 5.58635600e+04,\n",
       "        6.38437634e+04, 7.18239667e+04, 7.98041700e+04, 8.77843734e+04,\n",
       "        9.57645767e+04, 1.03744780e+05, 1.11724983e+05, 1.19705187e+05,\n",
       "        1.27685390e+05, 1.35665593e+05, 1.43645797e+05, 1.51626000e+05,\n",
       "        1.59606203e+05, 1.67586407e+05, 1.75566610e+05, 1.83546813e+05,\n",
       "        1.91527017e+05, 1.99507220e+05, 2.07487423e+05, 2.15467627e+05,\n",
       "        2.23447830e+05, 2.31428033e+05, 2.39408237e+05, 2.47388440e+05,\n",
       "        2.55368643e+05, 2.63348847e+05, 2.71329050e+05, 2.79309253e+05,\n",
       "        2.87289457e+05, 2.95269660e+05, 3.03249863e+05, 3.11230067e+05,\n",
       "        3.19210270e+05]),\n",
       " <BarContainer object of 40 artists>)"
      ]
     },
     "execution_count": 15,
     "metadata": {},
     "output_type": "execute_result"
    },
    {
     "data": {
      "image/png": "[encoded data removed]",
      "text/plain": [
       "<Figure size 640x480 with 1 Axes>"
      ]
     },
     "metadata": {},
     "output_type": "display_data"
    }
   ],
   "source": [
    "plt.hist(visa_df['prevailing_wage'],bins=40)"
   ]
  },
  {
   "cell_type": "code",
   "execution_count": 49,
   "id": "300bc445-569b-4252-800f-3f69022edbc0",
   "metadata": {},
   "outputs": [
    {
     "data": {
      "image/png": "[encoded data removed]",
      "text/plain": [
       "<Figure size 640x480 with 1 Axes>"
      ]
     },
     "metadata": {},
     "output_type": "display_data"
    }
   ],
   "source": [
    "count,interval,n=plt.hist(visa_df['prevailing_wage'],bins=40)"
   ]
  },
  {
   "cell_type": "code",
   "execution_count": 23,
   "id": "85a62f07-2ea6-4770-bfa4-9e45fc779170",
   "metadata": {},
   "outputs": [
    {
     "data": {
      "text/plain": [
       "25480"
      ]
     },
     "execution_count": 23,
     "metadata": {},
     "output_type": "execute_result"
    }
   ],
   "source": [
    "lb=2.13670000e+00\n",
    "ub=3.19210270e+05\n",
    "con1=visa_df['prevailing_wage']>=lb\n",
    "con2=visa_df['prevailing_wage']<=ub\n",
    "\n",
    "con3=con1&con2\n",
    "len(visa_df[con3])"
   ]
  },
  {
   "cell_type": "markdown",
   "id": "5e2d785f-53ce-44ba-aad3-6d0fe11a95f4",
   "metadata": {},
   "source": [
    "## **Boxplot**"
   ]
  },
  {
   "cell_type": "markdown",
   "id": "dda381e3-5a14-4a29-9802-a3897aabc2d1",
   "metadata": {},
   "source": [
    "- boxplot is used to find the outliers\n",
    "\n",
    "- q3+1.5*(Q3-Q1)\n",
    "- q3-1.5*(Q3-Q1)"
   ]
  },
  {
   "cell_type": "code",
   "execution_count": 13,
   "id": "32883c73-419e-4318-9ce7-a37428a0fffa",
   "metadata": {},
   "outputs": [
    {
     "data": {
      "text/plain": [
       "427"
      ]
     },
     "execution_count": 13,
     "metadata": {},
     "output_type": "execute_result"
    }
   ],
   "source": [
    "wage_data=visa_df['prevailing_wage']\n",
    "\n",
    "q1=round(np.quantile(wage_data,0.25),2)\n",
    "q3=round(np.quantile(wage_data,0.75),2)\n",
    "iqr=q3-q1\n",
    "\n",
    "lb=q1-1.5*iqr\n",
    "ub=q3+1.5*iqr\n",
    "\n",
    "con1=visa_df['prevailing_wage']<lb\n",
    "con2=visa_df['prevailing_wage']>ub\n",
    "\n",
    "con3=con1|con2\n",
    "cnt=len(visa_df[con3])\n",
    "cnt"
   ]
  },
  {
   "cell_type": "markdown",
   "id": "e7a6c31a-e67a-449e-9173-3aee93f8c3dd",
   "metadata": {},
   "source": [
    "outlairs data"
   ]
  },
  {
   "cell_type": "code",
   "execution_count": 18,
   "id": "799e9454-e33c-44a7-8da9-550747ba8f30",
   "metadata": {},
   "outputs": [
    {
     "data": {
      "text/html": [
       "<div>\n",
       "<style scoped>\n",
       "    .dataframe tbody tr th:only-of-type {\n",
       "        vertical-align: middle;\n",
       "    }\n",
       "\n",
       "    .dataframe tbody tr th {\n",
       "        vertical-align: top;\n",
       "    }\n",
       "\n",
       "    .dataframe thead th {\n",
       "        text-align: right;\n",
       "    }\n",
       "</style>\n",
       "<table border=\"1\" class=\"dataframe\">\n",
       "  <thead>\n",
       "    <tr style=\"text-align: right;\">\n",
       "      <th></th>\n",
       "      <th>case_id</th>\n",
       "      <th>continent</th>\n",
       "      <th>education_of_employee</th>\n",
       "      <th>has_job_experience</th>\n",
       "      <th>requires_job_training</th>\n",
       "      <th>no_of_employees</th>\n",
       "      <th>yr_of_estab</th>\n",
       "      <th>region_of_employment</th>\n",
       "      <th>prevailing_wage</th>\n",
       "      <th>unit_of_wage</th>\n",
       "      <th>full_time_position</th>\n",
       "      <th>case_status</th>\n",
       "    </tr>\n",
       "  </thead>\n",
       "  <tbody>\n",
       "    <tr>\n",
       "      <th>14</th>\n",
       "      <td>EZYV15</td>\n",
       "      <td>Asia</td>\n",
       "      <td>Master's</td>\n",
       "      <td>Y</td>\n",
       "      <td>Y</td>\n",
       "      <td>15756</td>\n",
       "      <td>2006</td>\n",
       "      <td>South</td>\n",
       "      <td>220081.73</td>\n",
       "      <td>Year</td>\n",
       "      <td>Y</td>\n",
       "      <td>Certified</td>\n",
       "    </tr>\n",
       "    <tr>\n",
       "      <th>34</th>\n",
       "      <td>EZYV35</td>\n",
       "      <td>Asia</td>\n",
       "      <td>Master's</td>\n",
       "      <td>N</td>\n",
       "      <td>N</td>\n",
       "      <td>1809</td>\n",
       "      <td>2010</td>\n",
       "      <td>South</td>\n",
       "      <td>225569.73</td>\n",
       "      <td>Year</td>\n",
       "      <td>N</td>\n",
       "      <td>Certified</td>\n",
       "    </tr>\n",
       "    <tr>\n",
       "      <th>130</th>\n",
       "      <td>EZYV131</td>\n",
       "      <td>South America</td>\n",
       "      <td>High School</td>\n",
       "      <td>N</td>\n",
       "      <td>N</td>\n",
       "      <td>2554</td>\n",
       "      <td>2005</td>\n",
       "      <td>Midwest</td>\n",
       "      <td>247393.01</td>\n",
       "      <td>Year</td>\n",
       "      <td>Y</td>\n",
       "      <td>Certified</td>\n",
       "    </tr>\n",
       "    <tr>\n",
       "      <th>216</th>\n",
       "      <td>EZYV217</td>\n",
       "      <td>Asia</td>\n",
       "      <td>Master's</td>\n",
       "      <td>Y</td>\n",
       "      <td>N</td>\n",
       "      <td>1515</td>\n",
       "      <td>2001</td>\n",
       "      <td>Midwest</td>\n",
       "      <td>269321.68</td>\n",
       "      <td>Year</td>\n",
       "      <td>N</td>\n",
       "      <td>Certified</td>\n",
       "    </tr>\n",
       "    <tr>\n",
       "      <th>221</th>\n",
       "      <td>EZYV222</td>\n",
       "      <td>North America</td>\n",
       "      <td>Doctorate</td>\n",
       "      <td>Y</td>\n",
       "      <td>Y</td>\n",
       "      <td>2518</td>\n",
       "      <td>2010</td>\n",
       "      <td>South</td>\n",
       "      <td>219529.62</td>\n",
       "      <td>Year</td>\n",
       "      <td>Y</td>\n",
       "      <td>Certified</td>\n",
       "    </tr>\n",
       "    <tr>\n",
       "      <th>...</th>\n",
       "      <td>...</td>\n",
       "      <td>...</td>\n",
       "      <td>...</td>\n",
       "      <td>...</td>\n",
       "      <td>...</td>\n",
       "      <td>...</td>\n",
       "      <td>...</td>\n",
       "      <td>...</td>\n",
       "      <td>...</td>\n",
       "      <td>...</td>\n",
       "      <td>...</td>\n",
       "      <td>...</td>\n",
       "    </tr>\n",
       "    <tr>\n",
       "      <th>25191</th>\n",
       "      <td>EZYV25192</td>\n",
       "      <td>Asia</td>\n",
       "      <td>Master's</td>\n",
       "      <td>N</td>\n",
       "      <td>N</td>\n",
       "      <td>4983</td>\n",
       "      <td>2005</td>\n",
       "      <td>Midwest</td>\n",
       "      <td>280482.51</td>\n",
       "      <td>Year</td>\n",
       "      <td>Y</td>\n",
       "      <td>Denied</td>\n",
       "    </tr>\n",
       "    <tr>\n",
       "      <th>25195</th>\n",
       "      <td>EZYV25196</td>\n",
       "      <td>North America</td>\n",
       "      <td>Master's</td>\n",
       "      <td>Y</td>\n",
       "      <td>N</td>\n",
       "      <td>47</td>\n",
       "      <td>2001</td>\n",
       "      <td>South</td>\n",
       "      <td>234308.77</td>\n",
       "      <td>Year</td>\n",
       "      <td>N</td>\n",
       "      <td>Certified</td>\n",
       "    </tr>\n",
       "    <tr>\n",
       "      <th>25468</th>\n",
       "      <td>EZYV25469</td>\n",
       "      <td>Asia</td>\n",
       "      <td>Bachelor's</td>\n",
       "      <td>N</td>\n",
       "      <td>N</td>\n",
       "      <td>373</td>\n",
       "      <td>2005</td>\n",
       "      <td>Midwest</td>\n",
       "      <td>272715.74</td>\n",
       "      <td>Year</td>\n",
       "      <td>N</td>\n",
       "      <td>Certified</td>\n",
       "    </tr>\n",
       "    <tr>\n",
       "      <th>25469</th>\n",
       "      <td>EZYV25470</td>\n",
       "      <td>North America</td>\n",
       "      <td>Master's</td>\n",
       "      <td>Y</td>\n",
       "      <td>N</td>\n",
       "      <td>2261</td>\n",
       "      <td>1997</td>\n",
       "      <td>Northeast</td>\n",
       "      <td>273772.47</td>\n",
       "      <td>Year</td>\n",
       "      <td>N</td>\n",
       "      <td>Certified</td>\n",
       "    </tr>\n",
       "    <tr>\n",
       "      <th>25476</th>\n",
       "      <td>EZYV25477</td>\n",
       "      <td>Asia</td>\n",
       "      <td>High School</td>\n",
       "      <td>Y</td>\n",
       "      <td>N</td>\n",
       "      <td>3274</td>\n",
       "      <td>2006</td>\n",
       "      <td>Northeast</td>\n",
       "      <td>279174.79</td>\n",
       "      <td>Year</td>\n",
       "      <td>Y</td>\n",
       "      <td>Certified</td>\n",
       "    </tr>\n",
       "  </tbody>\n",
       "</table>\n",
       "<p>427 rows × 12 columns</p>\n",
       "</div>"
      ],
      "text/plain": [
       "         case_id      continent education_of_employee has_job_experience  \\\n",
       "14        EZYV15           Asia              Master's                  Y   \n",
       "34        EZYV35           Asia              Master's                  N   \n",
       "130      EZYV131  South America           High School                  N   \n",
       "216      EZYV217           Asia              Master's                  Y   \n",
       "221      EZYV222  North America             Doctorate                  Y   \n",
       "...          ...            ...                   ...                ...   \n",
       "25191  EZYV25192           Asia              Master's                  N   \n",
       "25195  EZYV25196  North America              Master's                  Y   \n",
       "25468  EZYV25469           Asia            Bachelor's                  N   \n",
       "25469  EZYV25470  North America              Master's                  Y   \n",
       "25476  EZYV25477           Asia           High School                  Y   \n",
       "\n",
       "      requires_job_training  no_of_employees  yr_of_estab  \\\n",
       "14                        Y            15756         2006   \n",
       "34                        N             1809         2010   \n",
       "130                       N             2554         2005   \n",
       "216                       N             1515         2001   \n",
       "221                       Y             2518         2010   \n",
       "...                     ...              ...          ...   \n",
       "25191                     N             4983         2005   \n",
       "25195                     N               47         2001   \n",
       "25468                     N              373         2005   \n",
       "25469                     N             2261         1997   \n",
       "25476                     N             3274         2006   \n",
       "\n",
       "      region_of_employment  prevailing_wage unit_of_wage full_time_position  \\\n",
       "14                   South        220081.73         Year                  Y   \n",
       "34                   South        225569.73         Year                  N   \n",
       "130                Midwest        247393.01         Year                  Y   \n",
       "216                Midwest        269321.68         Year                  N   \n",
       "221                  South        219529.62         Year                  Y   \n",
       "...                    ...              ...          ...                ...   \n",
       "25191              Midwest        280482.51         Year                  Y   \n",
       "25195                South        234308.77         Year                  N   \n",
       "25468              Midwest        272715.74         Year                  N   \n",
       "25469            Northeast        273772.47         Year                  N   \n",
       "25476            Northeast        279174.79         Year                  Y   \n",
       "\n",
       "      case_status  \n",
       "14      Certified  \n",
       "34      Certified  \n",
       "130     Certified  \n",
       "216     Certified  \n",
       "221     Certified  \n",
       "...           ...  \n",
       "25191      Denied  \n",
       "25195   Certified  \n",
       "25468   Certified  \n",
       "25469   Certified  \n",
       "25476   Certified  \n",
       "\n",
       "[427 rows x 12 columns]"
      ]
     },
     "execution_count": 18,
     "metadata": {},
     "output_type": "execute_result"
    }
   ],
   "source": [
    "outliers_df=visa_df[con3]\n",
    "outliers_df"
   ]
  },
  {
   "cell_type": "markdown",
   "id": "67f69907-2e07-48e9-98c4-1f6f4a587263",
   "metadata": {},
   "source": [
    "non-outliers data"
   ]
  },
  {
   "cell_type": "code",
   "execution_count": 5,
   "id": "a3d96295-44e2-4d50-83bd-be09c0aea2aa",
   "metadata": {},
   "outputs": [
    {
     "data": {
      "text/html": [
       "<div>\n",
       "<style scoped>\n",
       "    .dataframe tbody tr th:only-of-type {\n",
       "        vertical-align: middle;\n",
       "    }\n",
       "\n",
       "    .dataframe tbody tr th {\n",
       "        vertical-align: top;\n",
       "    }\n",
       "\n",
       "    .dataframe thead th {\n",
       "        text-align: right;\n",
       "    }\n",
       "</style>\n",
       "<table border=\"1\" class=\"dataframe\">\n",
       "  <thead>\n",
       "    <tr style=\"text-align: right;\">\n",
       "      <th></th>\n",
       "      <th>case_id</th>\n",
       "      <th>continent</th>\n",
       "      <th>education_of_employee</th>\n",
       "      <th>has_job_experience</th>\n",
       "      <th>requires_job_training</th>\n",
       "      <th>no_of_employees</th>\n",
       "      <th>yr_of_estab</th>\n",
       "      <th>region_of_employment</th>\n",
       "      <th>prevailing_wage</th>\n",
       "      <th>unit_of_wage</th>\n",
       "      <th>full_time_position</th>\n",
       "      <th>case_status</th>\n",
       "    </tr>\n",
       "  </thead>\n",
       "  <tbody>\n",
       "    <tr>\n",
       "      <th>0</th>\n",
       "      <td>EZYV01</td>\n",
       "      <td>Asia</td>\n",
       "      <td>High School</td>\n",
       "      <td>N</td>\n",
       "      <td>N</td>\n",
       "      <td>14513</td>\n",
       "      <td>2007</td>\n",
       "      <td>West</td>\n",
       "      <td>592.2029</td>\n",
       "      <td>Hour</td>\n",
       "      <td>Y</td>\n",
       "      <td>Denied</td>\n",
       "    </tr>\n",
       "    <tr>\n",
       "      <th>1</th>\n",
       "      <td>EZYV02</td>\n",
       "      <td>Asia</td>\n",
       "      <td>Master's</td>\n",
       "      <td>Y</td>\n",
       "      <td>N</td>\n",
       "      <td>2412</td>\n",
       "      <td>2002</td>\n",
       "      <td>Northeast</td>\n",
       "      <td>83425.6500</td>\n",
       "      <td>Year</td>\n",
       "      <td>Y</td>\n",
       "      <td>Certified</td>\n",
       "    </tr>\n",
       "    <tr>\n",
       "      <th>2</th>\n",
       "      <td>EZYV03</td>\n",
       "      <td>Asia</td>\n",
       "      <td>Bachelor's</td>\n",
       "      <td>N</td>\n",
       "      <td>Y</td>\n",
       "      <td>44444</td>\n",
       "      <td>2008</td>\n",
       "      <td>West</td>\n",
       "      <td>122996.8600</td>\n",
       "      <td>Year</td>\n",
       "      <td>Y</td>\n",
       "      <td>Denied</td>\n",
       "    </tr>\n",
       "    <tr>\n",
       "      <th>3</th>\n",
       "      <td>EZYV04</td>\n",
       "      <td>Asia</td>\n",
       "      <td>Bachelor's</td>\n",
       "      <td>N</td>\n",
       "      <td>N</td>\n",
       "      <td>98</td>\n",
       "      <td>1897</td>\n",
       "      <td>West</td>\n",
       "      <td>83434.0300</td>\n",
       "      <td>Year</td>\n",
       "      <td>Y</td>\n",
       "      <td>Denied</td>\n",
       "    </tr>\n",
       "    <tr>\n",
       "      <th>4</th>\n",
       "      <td>EZYV05</td>\n",
       "      <td>Africa</td>\n",
       "      <td>Master's</td>\n",
       "      <td>Y</td>\n",
       "      <td>N</td>\n",
       "      <td>1082</td>\n",
       "      <td>2005</td>\n",
       "      <td>South</td>\n",
       "      <td>149907.3900</td>\n",
       "      <td>Year</td>\n",
       "      <td>Y</td>\n",
       "      <td>Certified</td>\n",
       "    </tr>\n",
       "    <tr>\n",
       "      <th>...</th>\n",
       "      <td>...</td>\n",
       "      <td>...</td>\n",
       "      <td>...</td>\n",
       "      <td>...</td>\n",
       "      <td>...</td>\n",
       "      <td>...</td>\n",
       "      <td>...</td>\n",
       "      <td>...</td>\n",
       "      <td>...</td>\n",
       "      <td>...</td>\n",
       "      <td>...</td>\n",
       "      <td>...</td>\n",
       "    </tr>\n",
       "    <tr>\n",
       "      <th>25474</th>\n",
       "      <td>EZYV25475</td>\n",
       "      <td>Africa</td>\n",
       "      <td>Doctorate</td>\n",
       "      <td>N</td>\n",
       "      <td>N</td>\n",
       "      <td>2594</td>\n",
       "      <td>1979</td>\n",
       "      <td>Northeast</td>\n",
       "      <td>51104.7800</td>\n",
       "      <td>Year</td>\n",
       "      <td>Y</td>\n",
       "      <td>Certified</td>\n",
       "    </tr>\n",
       "    <tr>\n",
       "      <th>25475</th>\n",
       "      <td>EZYV25476</td>\n",
       "      <td>Asia</td>\n",
       "      <td>Bachelor's</td>\n",
       "      <td>Y</td>\n",
       "      <td>Y</td>\n",
       "      <td>2601</td>\n",
       "      <td>2008</td>\n",
       "      <td>South</td>\n",
       "      <td>77092.5700</td>\n",
       "      <td>Year</td>\n",
       "      <td>Y</td>\n",
       "      <td>Certified</td>\n",
       "    </tr>\n",
       "    <tr>\n",
       "      <th>25477</th>\n",
       "      <td>EZYV25478</td>\n",
       "      <td>Asia</td>\n",
       "      <td>Master's</td>\n",
       "      <td>Y</td>\n",
       "      <td>N</td>\n",
       "      <td>1121</td>\n",
       "      <td>1910</td>\n",
       "      <td>South</td>\n",
       "      <td>146298.8500</td>\n",
       "      <td>Year</td>\n",
       "      <td>N</td>\n",
       "      <td>Certified</td>\n",
       "    </tr>\n",
       "    <tr>\n",
       "      <th>25478</th>\n",
       "      <td>EZYV25479</td>\n",
       "      <td>Asia</td>\n",
       "      <td>Master's</td>\n",
       "      <td>Y</td>\n",
       "      <td>Y</td>\n",
       "      <td>1918</td>\n",
       "      <td>1887</td>\n",
       "      <td>West</td>\n",
       "      <td>86154.7700</td>\n",
       "      <td>Year</td>\n",
       "      <td>Y</td>\n",
       "      <td>Certified</td>\n",
       "    </tr>\n",
       "    <tr>\n",
       "      <th>25479</th>\n",
       "      <td>EZYV25480</td>\n",
       "      <td>Asia</td>\n",
       "      <td>Bachelor's</td>\n",
       "      <td>Y</td>\n",
       "      <td>N</td>\n",
       "      <td>3195</td>\n",
       "      <td>1960</td>\n",
       "      <td>Midwest</td>\n",
       "      <td>70876.9100</td>\n",
       "      <td>Year</td>\n",
       "      <td>Y</td>\n",
       "      <td>Certified</td>\n",
       "    </tr>\n",
       "  </tbody>\n",
       "</table>\n",
       "<p>25053 rows × 12 columns</p>\n",
       "</div>"
      ],
      "text/plain": [
       "         case_id continent education_of_employee has_job_experience  \\\n",
       "0         EZYV01      Asia           High School                  N   \n",
       "1         EZYV02      Asia              Master's                  Y   \n",
       "2         EZYV03      Asia            Bachelor's                  N   \n",
       "3         EZYV04      Asia            Bachelor's                  N   \n",
       "4         EZYV05    Africa              Master's                  Y   \n",
       "...          ...       ...                   ...                ...   \n",
       "25474  EZYV25475    Africa             Doctorate                  N   \n",
       "25475  EZYV25476      Asia            Bachelor's                  Y   \n",
       "25477  EZYV25478      Asia              Master's                  Y   \n",
       "25478  EZYV25479      Asia              Master's                  Y   \n",
       "25479  EZYV25480      Asia            Bachelor's                  Y   \n",
       "\n",
       "      requires_job_training  no_of_employees  yr_of_estab  \\\n",
       "0                         N            14513         2007   \n",
       "1                         N             2412         2002   \n",
       "2                         Y            44444         2008   \n",
       "3                         N               98         1897   \n",
       "4                         N             1082         2005   \n",
       "...                     ...              ...          ...   \n",
       "25474                     N             2594         1979   \n",
       "25475                     Y             2601         2008   \n",
       "25477                     N             1121         1910   \n",
       "25478                     Y             1918         1887   \n",
       "25479                     N             3195         1960   \n",
       "\n",
       "      region_of_employment  prevailing_wage unit_of_wage full_time_position  \\\n",
       "0                     West         592.2029         Hour                  Y   \n",
       "1                Northeast       83425.6500         Year                  Y   \n",
       "2                     West      122996.8600         Year                  Y   \n",
       "3                     West       83434.0300         Year                  Y   \n",
       "4                    South      149907.3900         Year                  Y   \n",
       "...                    ...              ...          ...                ...   \n",
       "25474            Northeast       51104.7800         Year                  Y   \n",
       "25475                South       77092.5700         Year                  Y   \n",
       "25477                South      146298.8500         Year                  N   \n",
       "25478                 West       86154.7700         Year                  Y   \n",
       "25479              Midwest       70876.9100         Year                  Y   \n",
       "\n",
       "      case_status  \n",
       "0          Denied  \n",
       "1       Certified  \n",
       "2          Denied  \n",
       "3          Denied  \n",
       "4       Certified  \n",
       "...           ...  \n",
       "25474   Certified  \n",
       "25475   Certified  \n",
       "25477   Certified  \n",
       "25478   Certified  \n",
       "25479   Certified  \n",
       "\n",
       "[25053 rows x 12 columns]"
      ]
     },
     "execution_count": 5,
     "metadata": {},
     "output_type": "execute_result"
    }
   ],
   "source": [
    "wage_data=visa_df['prevailing_wage']\n",
    "\n",
    "q1=round(np.quantile(wage_data,0.25),2)\n",
    "q3=round(np.quantile(wage_data,0.75),2)\n",
    "iqr=q3-q1\n",
    "\n",
    "lb=q1-1.5*iqr\n",
    "ub=q3+1.5*iqr\n",
    "\n",
    "con1=visa_df['prevailing_wage']>lb\n",
    "con2=visa_df['prevailing_wage']<ub\n",
    "\n",
    "con3=con1&con2\n",
    "cnt=len(visa_df[con3])\n",
    "non_outliers_df=visa_df[con3]\n",
    "non_outliers_df"
   ]
  },
  {
   "cell_type": "code",
   "execution_count": 98,
   "id": "9af463c0-c1fb-450f-bbe9-4e2ca49c98c7",
   "metadata": {},
   "outputs": [
    {
     "data": {
      "text/plain": [
       "(array([85., 88., 80., 55., 44., 34., 22.,  7.,  7.,  5.]),\n",
       " array([218318.76 , 228407.911, 238497.062, 248586.213, 258675.364,\n",
       "        268764.515, 278853.666, 288942.817, 299031.968, 309121.119,\n",
       "        319210.27 ]),\n",
       " <BarContainer object of 10 artists>)"
      ]
     },
     "execution_count": 98,
     "metadata": {},
     "output_type": "execute_result"
    },
    {
     "data": {
      "image/png": "[encoded data removed]",
      "text/plain": [
       "<Figure size 640x480 with 1 Axes>"
      ]
     },
     "metadata": {},
     "output_type": "display_data"
    }
   ],
   "source": [
    "plt.hist(outliers_df['prevailing_wage'])"
   ]
  },
  {
   "cell_type": "code",
   "execution_count": 100,
   "id": "be5ce485-3ce2-440d-9ae3-235d4270ba19",
   "metadata": {},
   "outputs": [
    {
     "data": {
      "text/plain": [
       "(array([4580., 3368., 3890., 3942., 3507., 2860., 1643.,  706.,  295.,\n",
       "         262.]),\n",
       " array([2.13670000e+00, 2.18113840e+04, 4.36206314e+04, 6.54298787e+04,\n",
       "        8.72391260e+04, 1.09048373e+05, 1.30857621e+05, 1.52666868e+05,\n",
       "        1.74476115e+05, 1.96285363e+05, 2.18094610e+05]),\n",
       " <BarContainer object of 10 artists>)"
      ]
     },
     "execution_count": 100,
     "metadata": {},
     "output_type": "execute_result"
    },
    {
     "data": {
      "image/png": "[encoded data removed]",
      "text/plain": [
       "<Figure size 640x480 with 1 Axes>"
      ]
     },
     "metadata": {},
     "output_type": "display_data"
    }
   ],
   "source": [
    "plt.hist(non_outliers_df['prevailing_wage'])"
   ]
  },
  {
   "cell_type": "markdown",
   "id": "9cf68af4-6b17-41a3-ac4c-6ceadab01e90",
   "metadata": {},
   "source": [
    ".. code-block:: none\n",
    "\n",
    "          Q1-1.5IQR   Q1   median  Q3   Q3+1.5IQR\n",
    "                       |-----:-----|\n",
    "       o      |--------|     :     |--------|    o  o\n",
    "                       |-----:-----|\n",
    "     flier             <----------->            fliers\n",
    "                            IQR\n",
    "\n"
   ]
  },
  {
   "cell_type": "code",
   "execution_count": 5,
   "id": "f0b3e648-2e19-40b2-99d5-dbc23fbd95fd",
   "metadata": {},
   "outputs": [
    {
     "data": {
      "image/png": "[encoded data removed]",
      "text/plain": [
       "<Figure size 640x480 with 1 Axes>"
      ]
     },
     "metadata": {},
     "output_type": "display_data"
    }
   ],
   "source": [
    "plt.boxplot(visa_df['prevailing_wage'])\n",
    "plt.show()"
   ]
  },
  {
   "cell_type": "code",
   "execution_count": 40,
   "id": "ecf4b00f-8c63-44c8-b7c8-fe2660d8d047",
   "metadata": {},
   "outputs": [
    {
     "data": {
      "image/png": "[encoded data removed]",
      "text/plain": [
       "<Figure size 640x480 with 1 Axes>"
      ]
     },
     "metadata": {},
     "output_type": "display_data"
    }
   ],
   "source": [
    "plt.boxplot(visa_df['prevailing_wage'],vert=False)\n",
    "plt.show()"
   ]
  },
  {
   "cell_type": "code",
   "execution_count": 5,
   "id": "2dccaedb-4b18-4f54-b307-9724d88d678d",
   "metadata": {},
   "outputs": [
    {
     "data": {
      "text/plain": [
       "<Axes: xlabel='prevailing_wage'>"
      ]
     },
     "execution_count": 5,
     "metadata": {},
     "output_type": "execute_result"
    },
    {
     "data": {
      "image/png": "[encoded data removed]",
      "text/plain": [
       "<Figure size 640x480 with 1 Axes>"
      ]
     },
     "metadata": {},
     "output_type": "display_data"
    }
   ],
   "source": [
    "sns.boxplot(visa_df['prevailing_wage'],orient='h')"
   ]
  },
  {
   "cell_type": "code",
   "execution_count": 112,
   "id": "fe9affbf-3923-4a0d-9037-42a1c0f683ad",
   "metadata": {},
   "outputs": [
    {
     "data": {
      "image/png": "[encoded data removed]",
      "text/plain": [
       "<Figure size 1000x800 with 4 Axes>"
      ]
     },
     "metadata": {},
     "output_type": "display_data"
    }
   ],
   "source": [
    "\n",
    "plt.figure(figsize=(10,8))\n",
    "plt.suptitle('all plots')\n",
    "plt.subplot(2,2,1)\n",
    "plt.hist(visa_df['prevailing_wage'])\n",
    "plt.title('histogram')\n",
    "plt.subplot(2,2,2)\n",
    "plt.boxplot(visa_df['prevailing_wage'],vert=False)\n",
    "plt.title('wage_box_plot')\n",
    "plt.subplot(2,2,3)\n",
    "plt.hist(non_outliers_df['prevailing_wage'])\n",
    "plt.title('wage_without outliers histogram')\n",
    "plt.subplot(2,2,4)\n",
    "plt.boxplot(non_outliers_df['prevailing_wage'],vert=False)\n",
    "plt.title('wage_without outliers box_plot')\n",
    "plt.suptitle('all plotsssss')\n",
    "plt.show()"
   ]
  },
  {
   "cell_type": "code",
   "execution_count": 43,
   "id": "134afe09-c78d-45e2-9cbc-12bdb67b3d9c",
   "metadata": {},
   "outputs": [
    {
     "data": {
      "text/plain": [
       "<Axes: xlabel='prevailing_wage'>"
      ]
     },
     "execution_count": 43,
     "metadata": {},
     "output_type": "execute_result"
    },
    {
     "data": {
      "image/png": "[encoded data removed]",
      "text/plain": [
       "<Figure size 640x480 with 1 Axes>"
      ]
     },
     "metadata": {},
     "output_type": "display_data"
    }
   ],
   "source": [
    "sns.boxplot(visa_df['prevailing_wage'],orient='h')"
   ]
  },
  {
   "cell_type": "code",
   "execution_count": 108,
   "id": "37149619-0d6c-4069-9953-0fa05e786f02",
   "metadata": {},
   "outputs": [
    {
     "data": {
      "image/png": "[encoded data removed]",
      "text/plain": [
       "<Figure size 1000x800 with 4 Axes>"
      ]
     },
     "metadata": {},
     "output_type": "display_data"
    }
   ],
   "source": [
    "plt.figure(figsize=(10,8))\n",
    "plt.subplot(2,2,1)\n",
    "plt.hist(visa_df['prevailing_wage'])\n",
    "plt.title('histogram')\n",
    "plt.subplot(2,2,2)\n",
    "sns.boxplot(visa_df['prevailing_wage'],orient='h')\n",
    "plt.title('wage_box_plot')\n",
    "plt.subplot(2,2,3)\n",
    "plt.hist(non_outliers_df['prevailing_wage'])\n",
    "plt.subplot(2,2,4)\n",
    "sns.boxplot(non_outliers_df['prevailing_wage'],orient='h')\n",
    "plt.show()"
   ]
  },
  {
   "cell_type": "code",
   "execution_count": 90,
   "id": "ced156d3-cba7-4f7d-a3bd-e088d210dd9c",
   "metadata": {},
   "outputs": [
    {
     "data": {
      "image/png": "[encoded data removed]",
      "text/plain": [
       "<Figure size 1000x800 with 4 Axes>"
      ]
     },
     "metadata": {},
     "output_type": "display_data"
    }
   ],
   "source": [
    "plt.figure(figsize=(10,8))\n",
    "plt.suptitle('wage plots')\n",
    "plt.subplot(2,2,1).hist(visa_df['prevailing_wage'])\n",
    "plt.title('wage_histogram')\n",
    "plt.subplot(2,2,2).boxplot(visa_df['prevailing_wage'],vert=False)\n",
    "plt.title('wage_box_plot')\n",
    "plt.subplot(2,2,3).hist(non_outliers_df['prevailing_wage'])\n",
    "plt.title('wage_histogram_without_outliers')\n",
    "plt.subplot(2,2,4).boxplot(non_outliers_df['prevailing_wage'],vert=False)\n",
    "plt.title('wage_box_plot_without_outliers')\n",
    "plt.show()"
   ]
  },
  {
   "cell_type": "code",
   "execution_count": null,
   "id": "3e698047-23f4-4e19-ba60-35f4ad0d8809",
   "metadata": {},
   "outputs": [],
   "source": []
  }
 ],
 "metadata": {
  "kernelspec": {
   "display_name": "Python 3 (ipykernel)",
   "language": "python",
   "name": "python3"
  },
  "language_info": {
   "codemirror_mode": {
    "name": "ipython",
    "version": 3
   },
   "file_extension": ".py",
   "mimetype": "text/x-python",
   "name": "python",
   "nbconvert_exporter": "python",
   "pygments_lexer": "ipython3",
   "version": "3.12.4"
  }
 },
 "nbformat": 4,
 "nbformat_minor": 5
}
